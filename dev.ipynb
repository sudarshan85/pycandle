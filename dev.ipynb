{
 "cells": [
  {
   "cell_type": "markdown",
   "id": "1debb389-1931-4073-bfed-dda230f19414",
   "metadata": {},
   "source": [
    "# Scalar Grad Dev and Demo"
   ]
  },
  {
   "cell_type": "code",
   "execution_count": 1,
   "id": "1639946b-ba04-4bbd-9e64-5c83007333be",
   "metadata": {},
   "outputs": [],
   "source": [
    "%load_ext autoreload\n",
    "%autoreload 2\n",
    "%config IPCompleter.greedy=True\n",
    "\n",
    "import pdb, sys, warnings, os, json\n",
    "warnings.filterwarnings(action='ignore')\n",
    "\n",
    "from IPython.display import display, HTML\n",
    "\n",
    "import numpy as np\n",
    "import matplotlib.pyplot as plt\n",
    "import seaborn as sns\n",
    "\n",
    "np.set_printoptions(precision=4)\n",
    "sns.set_style(\"darkgrid\")\n",
    "%matplotlib inline"
   ]
  },
  {
   "cell_type": "markdown",
   "id": "a673452e-24db-4cf5-a55a-c6a9cb20fab7",
   "metadata": {},
   "source": [
    "## Class Dev"
   ]
  },
  {
   "cell_type": "code",
   "execution_count": 16,
   "id": "9d3335ed-4ff1-4520-89e1-c91f10621382",
   "metadata": {},
   "outputs": [],
   "source": [
    "class Scalar(object):\n",
    "  \"\"\"\n",
    "  Stores a single scalar value and its attributes\n",
    "  \"\"\"\n",
    "  \n",
    "  def __init__(self, data):\n",
    "    self.data = data\n",
    "    \n",
    "  def __add__(self, other):\n",
    "    return Scalar(self.data + other.data)\n",
    "  \n",
    "  def __mul__(self, other):\n",
    "    return Scalar(self.data * other.data)\n",
    "  \n",
    "  def __repr__(self):\n",
    "    return f\"Scalar(data={self.data})\""
   ]
  },
  {
   "cell_type": "code",
   "execution_count": 17,
   "id": "d66867cf-59af-4a21-b210-3b23f261c809",
   "metadata": {},
   "outputs": [],
   "source": [
    "a = Scalar(2.0)\n",
    "b = Scalar(3.0)"
   ]
  },
  {
   "cell_type": "code",
   "execution_count": 19,
   "id": "e98410a1-7c7a-4a7f-a701-8d5361db3963",
   "metadata": {},
   "outputs": [
    {
     "name": "stdout",
     "output_type": "stream",
     "text": [
      "Scalar(data=6.0)\n",
      "Scalar(data=5.0)\n"
     ]
    }
   ],
   "source": [
    "print(a*b)\n",
    "print(a+b)"
   ]
  },
  {
   "cell_type": "markdown",
   "id": "ec382608-1bae-429b-96c1-51fe9c5c3636",
   "metadata": {},
   "source": [
    "## Derivative"
   ]
  },
  {
   "cell_type": "code",
   "execution_count": null,
   "id": "a9d89aa9-1aa7-4b57-92cd-f76edd9bb9f8",
   "metadata": {},
   "outputs": [],
   "source": [
    "h = 0.001\n",
    "x = 3.0"
   ]
  }
 ],
 "metadata": {
  "kernelspec": {
   "display_name": "Python 3 (ipykernel)",
   "language": "python",
   "name": "python3"
  },
  "language_info": {
   "codemirror_mode": {
    "name": "ipython",
    "version": 3
   },
   "file_extension": ".py",
   "mimetype": "text/x-python",
   "name": "python",
   "nbconvert_exporter": "python",
   "pygments_lexer": "ipython3",
   "version": "3.8.13"
  }
 },
 "nbformat": 4,
 "nbformat_minor": 5
}
