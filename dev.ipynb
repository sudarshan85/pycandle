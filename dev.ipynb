{
 "cells": [
  {
   "cell_type": "markdown",
   "id": "1debb389-1931-4073-bfed-dda230f19414",
   "metadata": {},
   "source": [
    "# Scalar Grad Dev and Demo"
   ]
  },
  {
   "cell_type": "code",
   "execution_count": null,
   "id": "1639946b-ba04-4bbd-9e64-5c83007333be",
   "metadata": {},
   "outputs": [],
   "source": [
    "%load_ext autoreload\n",
    "%autoreload 2\n",
    "%config IPCompleter.greedy=True\n",
    "\n",
    "import pdb, sys, warnings, os, json, math\n",
    "warnings.filterwarnings(action='ignore')\n",
    "\n",
    "from IPython.display import display, HTML\n",
    "\n",
    "import numpy as np\n",
    "from graphviz import Digraph\n",
    "import matplotlib.pyplot as plt\n",
    "import seaborn as sns\n",
    "\n",
    "np.set_printoptions(precision=4)\n",
    "sns.set_style(\"darkgrid\")\n",
    "%matplotlib inline"
   ]
  },
  {
   "cell_type": "markdown",
   "id": "f6b76ef8-8b69-4fee-8f78-304a8ec90738",
   "metadata": {},
   "source": [
    "## Functions"
   ]
  },
  {
   "cell_type": "code",
   "execution_count": null,
   "id": "d2ad1476-a8b4-41c5-b218-188f81640644",
   "metadata": {},
   "outputs": [],
   "source": [
    "def trace(root):\n",
    "  \"\"\"\n",
    "  Builds a set of all nodes and edges in a graph\n",
    "  \"\"\"\n",
    "  nodes,edges = set(),set()\n",
    "  def build(v):\n",
    "    if v not in nodes:\n",
    "      nodes.add(v)\n",
    "      for child in v.prev:\n",
    "        edges.add((child, v))\n",
    "        build(child)\n",
    "  build(root)\n",
    "  return nodes,edges\n",
    "\n",
    "def draw_dot(root, format='svg', rankdir='LR', show_backprop=True, colors=True):\n",
    "  \"\"\"\n",
    "  format: png | svg | ...\n",
    "  rankdir: TB (top to bottom graph) | LR (left to right)\n",
    "  \"\"\"\n",
    "  assert rankdir in ['LR', 'TB']\n",
    "  nodes,edges = trace(root)\n",
    "  dot = Digraph(format=format, graph_attr={'rankdir': rankdir, 'ordering': 'in'}, engine='dot')\n",
    "  edge_color = 'blue' if colors else 'black'\n",
    "  node_color = 'purple' if colors else 'black'\n",
    "  \n",
    "  for n in nodes:\n",
    "    if hasattr(n, 'grad_updated') and n.grad_updated:\n",
    "      deri = f'({n.label})' if len(n.label) > 2 else n.label\n",
    "      dot.node(name=str(id(n)), label = '{%s|%.3f}|{do/d%s|%.3f}' % (n.label,n.data,deri,n.grad), shape='record', color=edge_color)\n",
    "    else:\n",
    "      dot.node(name=str(id(n)), label = '{%s|%.3f}' % (n.label,n.data), shape='record')\n",
    "    \n",
    "    if n.op:\n",
    "      if hasattr(n, 'grad_updated') and n.grad_updated:\n",
    "        dot.node(name=f'{str(id(n))}{n.op}', label=n.op, color=node_color)\n",
    "      else:\n",
    "        dot.node(name=f'{str(id(n))}{n.op}', label=n.op)\n",
    "      dot.edge(f'{str(id(n))}{n.op}', str(id(n)))\n",
    "      \n",
    "  for n1,n2 in edges:\n",
    "    dot.edge(str(id(n1)), f'{str(id(n2))}{n2.op}')\n",
    "  \n",
    "  if show_backprop:\n",
    "    if hasattr(n, 'grad_updated'):\n",
    "      for n1, n2 in edges:\n",
    "        if n2.grad != 0:\n",
    "          dot.edge(str(id(n1)), f'{str(id(n2))}', color='red', style='dashed', dir='back')\n",
    "  \n",
    "  return dot"
   ]
  },
  {
   "cell_type": "markdown",
   "id": "825e5673-3519-4d90-b109-b732bd0260a1",
   "metadata": {
    "tags": []
   },
   "source": [
    "## What is a derivative?\n",
    "\n",
    "1. Define `f(x)` and show some values. Its a quadric equation so its a parabola.\n",
    "2. Plot it with `xs = np.arange(-5, 5, 0.25)` and get `ys` with `f(xs)`\n",
    "3. What is the derivative at each point? Solving with calculus with formulas...but\n",
    "4. we are doing it using first principles"
   ]
  },
  {
   "cell_type": "code",
   "execution_count": null,
   "id": "19768967-bff6-4d44-965c-55c7fa5b97e4",
   "metadata": {},
   "outputs": [],
   "source": [
    "def f(x):\n",
    "  return 3*x**2 - 4*x + 5"
   ]
  },
  {
   "cell_type": "code",
   "execution_count": null,
   "id": "5c0c67a5-5218-401f-90ff-c512edb79916",
   "metadata": {},
   "outputs": [],
   "source": [
    "xs  = np.arange(-5, 5, 0.25)\n",
    "ys = f(xs)"
   ]
  },
  {
   "cell_type": "code",
   "execution_count": null,
   "id": "24b4954b-1bf5-4539-94a6-8ab69aca644e",
   "metadata": {},
   "outputs": [],
   "source": [
    "fig, ax = plt.subplots(1,1,figsize=(5, 4))\n",
    "ax.plot(xs, ys)"
   ]
  },
  {
   "cell_type": "code",
   "execution_count": null,
   "id": "28d5f31e-da27-4d67-a3ec-cc4a7d58f0a9",
   "metadata": {},
   "outputs": [],
   "source": [
    "h = 0.000001"
   ]
  },
  {
   "cell_type": "code",
   "execution_count": null,
   "id": "855307cb-719f-49c9-a039-d088198cc4a5",
   "metadata": {},
   "outputs": [],
   "source": [
    "x = 3.0\n",
    "(f(x + h) - f(x)) / h"
   ]
  },
  {
   "cell_type": "code",
   "execution_count": null,
   "id": "33fce611-1cf1-45fe-992a-5a6c9fc70704",
   "metadata": {},
   "outputs": [],
   "source": [
    "x = -3.0\n",
    "(f(x + h) - f(x)) / h"
   ]
  },
  {
   "cell_type": "code",
   "execution_count": null,
   "id": "1b6abcb9-29fb-470d-8079-114245c4f7f4",
   "metadata": {},
   "outputs": [],
   "source": [
    "x = -3.0\n",
    "(f(x + h) - f(x)) / h"
   ]
  },
  {
   "cell_type": "code",
   "execution_count": null,
   "id": "b32c9c45-135f-4346-b948-d3a3aa8fe687",
   "metadata": {},
   "outputs": [],
   "source": [
    "x = 2/3\n",
    "(f(x + h) - f(x)) / h"
   ]
  },
  {
   "cell_type": "markdown",
   "id": "7f4ea6cb-9e44-4852-b078-f57670593f6f",
   "metadata": {},
   "source": [
    "## Partial derivatives with multiple variables\n",
    "\n",
    "1. Define a simple expression with 3 variables `d = a*b + c` and get the partial derivatives\n",
    "2. We will go into NN's net"
   ]
  },
  {
   "cell_type": "code",
   "execution_count": null,
   "id": "fe616098-d323-44c6-bbcf-7447a13d1bf4",
   "metadata": {},
   "outputs": [],
   "source": [
    "h = 0.000001"
   ]
  },
  {
   "cell_type": "code",
   "execution_count": null,
   "id": "9933c72b-010e-45bc-b647-54cfbee34c65",
   "metadata": {},
   "outputs": [],
   "source": [
    "a = 2.0\n",
    "b = -3.0\n",
    "c = 10.0\n",
    "d1 = a*b + c\n",
    "\n",
    "c += h\n",
    "d2 = a*b + c\n",
    "\n",
    "print(f'{d1 = }')\n",
    "print(f'{d2 = }')\n",
    "print(f'{(d2-d1)/h = }')"
   ]
  },
  {
   "cell_type": "markdown",
   "id": "a673452e-24db-4cf5-a55a-c6a9cb20fab7",
   "metadata": {},
   "source": [
    "## Class Dev - Manual Backprop"
   ]
  },
  {
   "cell_type": "markdown",
   "id": "50a19d89-7e2b-4501-888c-a2e364df2d45",
   "metadata": {},
   "source": [
    "### Forward Pass"
   ]
  },
  {
   "cell_type": "markdown",
   "id": "9442865d-0ef4-4463-8f28-5bb8b829ad6d",
   "metadata": {},
   "source": [
    "1. Barebones `Scalar` class with just data\n",
    "2. Add the dunder methods for arithmetics\n",
    "3. We want to keep *expression graphs*, so we need to know and keep pointers of what `Scalar` produce other `Scalar`\n",
    "4. Add `_children` tuple and modify dunder methods\n",
    "5. What operation created the `Scalar`? Add `_op` attribute\n",
    "6. Give the scalar a name\n",
    "7. Draw computational graph\n",
    "8. More complex expression with more variables"
   ]
  },
  {
   "cell_type": "code",
   "execution_count": null,
   "id": "9d3335ed-4ff1-4520-89e1-c91f10621382",
   "metadata": {},
   "outputs": [],
   "source": [
    "class Scalar(object):\n",
    "  \"\"\"\n",
    "  Stores a single scalar value and its attributes\n",
    "  \"\"\"\n",
    "  \n",
    "  def __init__(self, data, children=(), op='', label='unk'):\n",
    "    self.data = data\n",
    "    self.prev = set(children)\n",
    "    self.op = op\n",
    "    self.label = label\n",
    "    \n",
    "  def __add__(self, other):\n",
    "    return Scalar(self.data + other.data, (self, other), '+')\n",
    "  \n",
    "  def __mul__(self, other):\n",
    "    return Scalar(self.data * other.data, (self, other), '*')\n",
    "  \n",
    "  def __repr__(self):\n",
    "    return f\"{self.label}|{self.data}\""
   ]
  },
  {
   "cell_type": "code",
   "execution_count": null,
   "id": "d66867cf-59af-4a21-b210-3b23f261c809",
   "metadata": {},
   "outputs": [],
   "source": [
    "a = Scalar(2.0, label='a')\n",
    "b = Scalar(-3.0, label='b')\n",
    "c = Scalar(10.0, label='c')\n",
    "d = a*b; d.label = 'd'\n",
    "e = d+c; e.label = 'e'\n",
    "f = Scalar(-2.0, label='f')\n",
    "o = e*f; o.label = 'o'\n",
    "o"
   ]
  },
  {
   "cell_type": "code",
   "execution_count": null,
   "id": "211f1f59-8290-4ad4-99ae-77acc79fa5e6",
   "metadata": {},
   "outputs": [],
   "source": [
    "draw_dot(o)"
   ]
  },
  {
   "cell_type": "markdown",
   "id": "c799ad9d-fe80-43a8-8e34-0c4e8c63c6e4",
   "metadata": {
    "tags": []
   },
   "source": [
    "### Backward Pass\n",
    "1. We are going to backpropagate through the graph by computing the derivative of that node w.r.t. to output L\n",
    "2. Derivative of L w.r.t. L is just 1\n",
    "3. In NN setting, L would be the loss function and everything except a and b are the parameters (weights)\n",
    "4. How the weights impact the loss function?\n",
    "5. Since the data is fixed, we don't necessarily care about the derivative of the loss w.r.t. data (exception adversarial ML where we want to manipulate the data to impact the loss ie fgsm)"
   ]
  },
  {
   "cell_type": "markdown",
   "id": "482c4ece-b6f8-405a-b324-b5e15e04d003",
   "metadata": {},
   "source": [
    "1. Maintain the gradient variable\n",
    "2. Numerical gradient in foo function\n",
    "3. l,e,f backprop\n",
    "4. Most important gradient: understanding this => understanding all of backprop\n",
    "5. Calculate the *local* derivative\n",
    "6. CHAIN RULE for global derivative"
   ]
  },
  {
   "cell_type": "code",
   "execution_count": null,
   "id": "3adf8c58-34df-44e0-9d65-eb73dc664ba9",
   "metadata": {},
   "outputs": [],
   "source": [
    "class Scalar(object):\n",
    "  \"\"\"\n",
    "  Stores a single scalar value and its attributes\n",
    "  \"\"\"  \n",
    "  def __init__(self, data, children=(), op='', label='unk'):\n",
    "    self.data = data\n",
    "    self._grad = 0.0\n",
    "    self.grad_updated = False\n",
    "    self.prev = set(children)\n",
    "    self.op = op\n",
    "    self.label = label\n",
    "\n",
    "  @property \n",
    "  def grad(self):\n",
    "    return self._grad\n",
    "  \n",
    "  @grad.setter\n",
    "  def grad(self, val):\n",
    "    self.grad_updated = True\n",
    "    self._grad = val\n",
    "    \n",
    "  def __add__(self, other):\n",
    "    return Scalar(self.data + other.data, (self, other), '+')\n",
    "  \n",
    "  def __mul__(self, other):\n",
    "    return Scalar(self.data * other.data, (self, other), '*')\n",
    "  \n",
    "  def __repr__(self):\n",
    "    return f'{self.label}|{self.data:0.3f}|{self._grad:0.3f}'"
   ]
  },
  {
   "cell_type": "code",
   "execution_count": null,
   "id": "6be4b406-5e8d-4213-9564-70edbe256c79",
   "metadata": {},
   "outputs": [],
   "source": [
    "a = Scalar(2.0, label='a')\n",
    "b = Scalar(-3.0, label='b')\n",
    "c = Scalar(10.0, label='c')\n",
    "d = a*b; d.label = 'd'\n",
    "e = d+c; e.label = 'e'\n",
    "f = Scalar(-2.0, label='f')\n",
    "o = e*f; o.label = 'o'\n",
    "o"
   ]
  },
  {
   "cell_type": "code",
   "execution_count": null,
   "id": "b03a92b9-7a64-41a5-9426-574c18da142f",
   "metadata": {
    "tags": []
   },
   "outputs": [],
   "source": [
    "draw_dot(o)"
   ]
  },
  {
   "cell_type": "markdown",
   "id": "71101098-d0c8-49ed-8fa0-5b38f8da7e31",
   "metadata": {},
   "source": [
    "`+` just *routes* the gradient"
   ]
  },
  {
   "cell_type": "code",
   "execution_count": null,
   "id": "0feabed9-f1f2-4b48-bc23-ef5adc9092b0",
   "metadata": {},
   "outputs": [],
   "source": [
    "o.grad = 1.0"
   ]
  },
  {
   "cell_type": "code",
   "execution_count": null,
   "id": "201e23ec-918f-4bd7-ae33-ca53dc6be66e",
   "metadata": {},
   "outputs": [],
   "source": [
    "e.grad = f.data\n",
    "f.grad = e.data"
   ]
  },
  {
   "cell_type": "code",
   "execution_count": null,
   "id": "12cf3908-cd33-46d9-8431-1d926b219c28",
   "metadata": {},
   "outputs": [],
   "source": [
    "c.grad = e.grad * 1.0\n",
    "d.grad = e.grad * 1.0"
   ]
  },
  {
   "cell_type": "code",
   "execution_count": null,
   "id": "8308cc57-de96-4d50-8950-7a5e702fe2c6",
   "metadata": {},
   "outputs": [],
   "source": [
    "a.grad = (-2.0) * -3.0\n",
    "b.grad = (-2.0) * 2"
   ]
  },
  {
   "cell_type": "markdown",
   "id": "0848b6ea-2cf8-480f-a33e-b46652b139c7",
   "metadata": {},
   "source": [
    "Lets nudge the leaf nodes (that we have influence over) and re-run the forward pass (over ops we don't have influence over) and print out the loss"
   ]
  },
  {
   "cell_type": "code",
   "execution_count": null,
   "id": "6e2bf2db-8e5d-48c2-a72a-c1049bfb56fd",
   "metadata": {},
   "outputs": [],
   "source": [
    "a.data += 0.01 * a.grad\n",
    "b.data += 0.01 * b.grad\n",
    "c.data += 0.01 * c.grad\n",
    "f.data += 0.01 * f.grad\n",
    "\n",
    "d = a*b; d.label = 'd'\n",
    "e = d+c; e.label = 'e'\n",
    "o = e*f; o.label = 'o'\n",
    "o"
   ]
  },
  {
   "cell_type": "code",
   "execution_count": null,
   "id": "480ad9f7-1aff-4588-97fb-45cc2710408e",
   "metadata": {},
   "outputs": [],
   "source": [
    "def foo():\n",
    "  h = 0.000001\n",
    "  \n",
    "  a = Scalar(2.0, label='a')\n",
    "  b = Scalar(-3.0, label='b')\n",
    "  c = Scalar(10.0, label='c')\n",
    "  d = a*b; d.label = 'd'\n",
    "  e = d+c; e.label = 'e'\n",
    "  f = Scalar(-2.0, label='f')\n",
    "  o = e*f; o.label = 'o'\n",
    "  o1 = o.data\n",
    "  \n",
    "  a = Scalar(2.0, label='a')\n",
    "  b = Scalar(-3.0, label='b')\n",
    "  b.data+=h\n",
    "  c = Scalar(10.0, label='c')\n",
    "  d = a*b; d.label = 'd'\n",
    "  e = d+c; e.label = 'e'\n",
    "  f = Scalar(-2.0, label='f')\n",
    "  o = e*f; o.label = 'o'\n",
    "  o2 = o.data\n",
    "  \n",
    "  print((o2-o1)/h)\n",
    "\n",
    "foo()"
   ]
  },
  {
   "cell_type": "markdown",
   "id": "887db2ac-2eab-484c-b4a8-8b5f5ab4ba72",
   "metadata": {
    "tags": []
   },
   "source": [
    "### Manual Backprop with a neuron\n",
    "\n",
    "1. Neurons have inputs `x` and weights `w`\n",
    "2. `w*x` is the input to the neuron with a bias which will be adjusted to either fire the neuron or not\n",
    "3. Activation function to squash the inputs to some range, we are using `tanh`\n",
    "4. Activation function takes in the dot products of its inputs"
   ]
  },
  {
   "cell_type": "code",
   "execution_count": null,
   "id": "50590c62-7b21-4965-80d9-d4f73e5286f9",
   "metadata": {},
   "outputs": [],
   "source": [
    "class Scalar(object):\n",
    "  \"\"\"\n",
    "  Stores a single scalar value and its attributes\n",
    "  \"\"\"  \n",
    "  def __init__(self, data, children=(), op='', label='unk'):\n",
    "    self.data = data\n",
    "    self._grad = 0.0\n",
    "    self.prev = set(children)\n",
    "    self.grad_updated = False\n",
    "    self.op = op\n",
    "    self.label = label\n",
    "    \n",
    "  @property \n",
    "  def grad(self):\n",
    "    return self._grad\n",
    "  \n",
    "  @grad.setter\n",
    "  def grad(self, val):\n",
    "    self.grad_updated = True\n",
    "    self._grad = val\n",
    "    \n",
    "  def __add__(self, other):\n",
    "    return Scalar(self.data + other.data, (self, other), '+')\n",
    "  \n",
    "  def __mul__(self, other):\n",
    "    return Scalar(self.data * other.data, (self, other), '*')\n",
    "  \n",
    "  def tanh(self):\n",
    "    n = self.data\n",
    "    t = (math.exp(2*n)-1)/(math.exp(2*n)+1)\n",
    "    return Scalar(t, (self, ), 'tanh') \n",
    "  \n",
    "  def __repr__(self):\n",
    "    return f'{self.label}|{self.data:0.3f}|{self.grad:0.3f}'"
   ]
  },
  {
   "cell_type": "code",
   "execution_count": null,
   "id": "a4e3de5b-ec1f-41d5-b3f3-67e22655ff4f",
   "metadata": {},
   "outputs": [],
   "source": [
    "fig,ax = plt.subplots(1,1,figsize=(5,4))\n",
    "ax.plot(np.arange(-5,5,0.2), np.tanh(np.arange(-5,5,0.2)))\n",
    "ax.grid()"
   ]
  },
  {
   "cell_type": "markdown",
   "id": "ee734263-244b-45f9-975c-0019dfad8414",
   "metadata": {},
   "source": [
    "Change bias to `6.8813735870195432` for backprop"
   ]
  },
  {
   "cell_type": "code",
   "execution_count": null,
   "id": "4988070a-bd83-42b6-a3d5-f40d3d1adaec",
   "metadata": {},
   "outputs": [],
   "source": [
    "# inputs\n",
    "x1 = Scalar(2.0, label='x1')\n",
    "x2 = Scalar(0.0, label='x2')\n",
    "\n",
    "# weights\n",
    "w1 = Scalar(-3.0, label='w1')\n",
    "w2 = Scalar(1.0, label='w2')\n",
    "\n",
    "# bias\n",
    "b = Scalar(6.8813735870195432, label='b')\n",
    "\n",
    "x1w1 = x1*w1; x1w1.label = 'x1w1'\n",
    "x2w2 = x2*w2; x2w2.label = 'x2w2'\n",
    "x1w1x2w2 = x1w1 + x2w2; x1w1x2w2.label = 'x1*w1 + x2*w2'\n",
    "n = x1w1x2w2 + b; n.label = 'n'\n",
    "o = n.tanh(); o.label = 'o'"
   ]
  },
  {
   "cell_type": "code",
   "execution_count": null,
   "id": "9591d5f0-d3a2-45ab-ae6d-d9c42ebc52e4",
   "metadata": {},
   "outputs": [],
   "source": [
    "draw_dot(o)"
   ]
  },
  {
   "cell_type": "markdown",
   "id": "dddf45bd-0fd7-4ed5-9ed1-3d85337cd633",
   "metadata": {},
   "source": [
    "1. Derivative of `tanh` is `1-tanh^2`\n",
    "2. `x2` has no influence on output since gradient is zero"
   ]
  },
  {
   "cell_type": "code",
   "execution_count": null,
   "id": "58fca123-ba6d-4251-8dc3-eec7bd2bfb12",
   "metadata": {},
   "outputs": [],
   "source": [
    "o.grad = 1.0"
   ]
  },
  {
   "cell_type": "code",
   "execution_count": null,
   "id": "68be2aaf-c882-438a-b4a1-12e6106faf26",
   "metadata": {},
   "outputs": [],
   "source": [
    "n.grad = 1 - o.data**2"
   ]
  },
  {
   "cell_type": "code",
   "execution_count": null,
   "id": "f85a1b82-1704-4e73-8728-99dc37177242",
   "metadata": {},
   "outputs": [],
   "source": [
    "x1w1x2w2.grad = n.grad\n",
    "b.grad = n.grad"
   ]
  },
  {
   "cell_type": "code",
   "execution_count": null,
   "id": "2fe40789-0ddc-4288-b20a-ce3d9c98562a",
   "metadata": {},
   "outputs": [],
   "source": [
    "x1w1.grad = x1w1x2w2.grad\n",
    "x2w2.grad = x1w1x2w2.grad"
   ]
  },
  {
   "cell_type": "code",
   "execution_count": null,
   "id": "58566340-c382-4ba9-9606-bbca2a325350",
   "metadata": {},
   "outputs": [],
   "source": [
    "x2.grad = w2.data * x2w2.grad\n",
    "w2.grad = (x2.data * x2w2.grad)\n",
    "\n",
    "x1.grad = w1.data * x1w1.grad\n",
    "w1.grad = x1.data * x1w1.grad"
   ]
  },
  {
   "cell_type": "markdown",
   "id": "f1a58bb3-88de-4b84-bb43-430908ee9dbc",
   "metadata": {
    "tags": []
   },
   "source": [
    "### Automatic backprop"
   ]
  },
  {
   "cell_type": "markdown",
   "id": "6ad1153e-45fb-4b04-a899-e542be022053",
   "metadata": {},
   "source": [
    "1. Backward func by default doesn't do anything and will do the little piece of chain rule. Leaf code has nothing to do"
   ]
  },
  {
   "cell_type": "code",
   "execution_count": null,
   "id": "4ef56ecc-ed8a-4297-ac24-b591cf4d50cb",
   "metadata": {},
   "outputs": [],
   "source": [
    "class Scalar(object):\n",
    "  \"\"\"\n",
    "  Stores a single scalar value and its attributes\n",
    "  \"\"\"  \n",
    "  def __init__(self, data, children=(), op='', label='unk'):\n",
    "    self.data = data\n",
    "    self._grad = 0.0\n",
    "    self._backward = lambda: None\n",
    "    self.prev = set(children)\n",
    "    self.grad_updated = False\n",
    "    self.op = op\n",
    "    self.label = label\n",
    "    \n",
    "  @property \n",
    "  def grad(self):\n",
    "    return self._grad\n",
    "  \n",
    "  @grad.setter\n",
    "  def grad(self, val):\n",
    "    self.grad_updated = True\n",
    "    self._grad = val\n",
    "    \n",
    "  def __add__(self, other):\n",
    "    out = Scalar(self.data + other.data, (self, other), '+')\n",
    "    def _backward():\n",
    "      self.grad = 1.0 * out.grad\n",
    "      other.grad = 1.0 * out.grad   \n",
    "    out._backward = _backward\n",
    "    return out\n",
    "  \n",
    "  def __mul__(self, other):\n",
    "    out = Scalar(self.data * other.data, (self, other), '*')\n",
    "    def _backward():\n",
    "      self.grad = other.data * out.grad\n",
    "      other.grad = self.data * out.grad\n",
    "    out._backward = _backward\n",
    "    return out\n",
    "  \n",
    "  def tanh(self):\n",
    "    n = self.data\n",
    "    t = (math.exp(2*n)-1)/(math.exp(2*n)+1)\n",
    "    out = Scalar(t, (self, ), 'tanh') \n",
    "    def _backward():\n",
    "      self.grad = (1 - t**2) * out.grad\n",
    "    out._backward = _backward\n",
    "    return out\n",
    "  \n",
    "  def __repr__(self):\n",
    "    return f'{self.label}|{self.data:0.3f}|{self.grad:0.3f}'"
   ]
  },
  {
   "cell_type": "code",
   "execution_count": null,
   "id": "1ca11656-2eac-4027-be90-cbfae9b8a709",
   "metadata": {},
   "outputs": [],
   "source": [
    "# inputs\n",
    "x1 = Scalar(2.0, label='x1')\n",
    "x2 = Scalar(0.0, label='x2')\n",
    "\n",
    "# weights\n",
    "w1 = Scalar(-3.0, label='w1')\n",
    "w2 = Scalar(1.0, label='w2')\n",
    "\n",
    "# bias\n",
    "b = Scalar(6.8813735870195432, label='b')\n",
    "\n",
    "x1w1 = x1*w1; x1w1.label = 'x1w1'\n",
    "x2w2 = x2*w2; x2w2.label = 'x2w2'\n",
    "x1w1x2w2 = x1w1 + x2w2; x1w1x2w2.label = '(x1*w1 + x2*w2)'\n",
    "n = x1w1x2w2 + b; n.label = 'n'\n",
    "o = n.tanh(); o.label = 'o'"
   ]
  },
  {
   "cell_type": "code",
   "execution_count": null,
   "id": "ffe78d17-2ec8-4069-bee6-8dcfbe062fd2",
   "metadata": {},
   "outputs": [],
   "source": [
    "draw_dot(o)"
   ]
  },
  {
   "cell_type": "code",
   "execution_count": null,
   "id": "1d46924f-7e8f-4f91-bd4c-177688e49378",
   "metadata": {},
   "outputs": [],
   "source": [
    "o.grad = 1.0\n",
    "o._backward()"
   ]
  },
  {
   "cell_type": "code",
   "execution_count": null,
   "id": "0e606292-dba2-4d5b-8795-62baad51b689",
   "metadata": {},
   "outputs": [],
   "source": [
    "n._backward()"
   ]
  },
  {
   "cell_type": "code",
   "execution_count": null,
   "id": "ae9f4e49-8a4f-44c1-8dbe-a57e5f9d737c",
   "metadata": {},
   "outputs": [],
   "source": [
    "b._backward()"
   ]
  },
  {
   "cell_type": "code",
   "execution_count": null,
   "id": "59e08855-e722-467e-9b7a-dd5014cd2941",
   "metadata": {},
   "outputs": [],
   "source": [
    "x1w1x2w2._backward()"
   ]
  },
  {
   "cell_type": "code",
   "execution_count": null,
   "id": "038161f6-8899-4093-b595-6025403f1a9c",
   "metadata": {},
   "outputs": [],
   "source": [
    "x1w1._backward()\n",
    "x2w2._backward()"
   ]
  },
  {
   "cell_type": "markdown",
   "id": "4e7fcf9c-27d7-496b-9877-3bb081fad2bf",
   "metadata": {
    "tags": []
   },
   "source": [
    "### Automatic backprop with one function call with Topo sort"
   ]
  },
  {
   "cell_type": "code",
   "execution_count": null,
   "id": "0b0a3610-3f0a-4b00-8c22-95536f3c474d",
   "metadata": {},
   "outputs": [],
   "source": [
    "class Scalar(object):\n",
    "  \"\"\"\n",
    "  Stores a single scalar value and its attributes\n",
    "  \"\"\"  \n",
    "  def __init__(self, data, children=(), op='', label='unk'):\n",
    "    self.data = data\n",
    "    self._grad = 0.0\n",
    "    self._backward = lambda: None\n",
    "    self.prev = set(children)\n",
    "    self.grad_updated = False\n",
    "    self.op = op\n",
    "    self.label = label\n",
    "    \n",
    "  @property \n",
    "  def grad(self):\n",
    "    return self._grad\n",
    "  \n",
    "  @grad.setter\n",
    "  def grad(self, val):\n",
    "    self.grad_updated = True\n",
    "    self._grad = val\n",
    "    \n",
    "  def __add__(self, other):\n",
    "    out = Scalar(self.data + other.data, (self, other), '+')\n",
    "    def _backward():\n",
    "      self.grad = 1.0 * out.grad\n",
    "      other.grad = 1.0 * out.grad   \n",
    "    out._backward = _backward\n",
    "    return out\n",
    "  \n",
    "  def __mul__(self, other):\n",
    "    out = Scalar(self.data * other.data, (self, other), '*')\n",
    "    def _backward():\n",
    "      self.grad = other.data * out.grad\n",
    "      other.grad = self.data * out.grad\n",
    "    out._backward = _backward\n",
    "    return out\n",
    "  \n",
    "  def tanh(self):\n",
    "    n = self.data\n",
    "    t = (math.exp(2*n)-1)/(math.exp(2*n)+1)\n",
    "    out = Scalar(t, (self, ), 'tanh') \n",
    "    def _backward():\n",
    "      self.grad = (1 - t**2) * out.grad\n",
    "    out._backward = _backward\n",
    "    return out\n",
    "  \n",
    "  def backward(self):\n",
    "    topo = []\n",
    "    visited = set()\n",
    "    def build_topo(v):\n",
    "      if v not in visited:\n",
    "        visited.add(v)\n",
    "        for child in v.prev:\n",
    "          build_topo(child)\n",
    "        topo.append(v)\n",
    "        \n",
    "    build_topo(self)    \n",
    "    self.grad = 1.0\n",
    "    for node in reversed(topo):\n",
    "      node._backward()        \n",
    "  \n",
    "  def __repr__(self):\n",
    "    return f'{self.label}|{self.data:0.3f}|{self.grad:0.3f}'"
   ]
  },
  {
   "cell_type": "code",
   "execution_count": null,
   "id": "da282797-fff8-48c3-ae5e-24564d85f6e4",
   "metadata": {},
   "outputs": [],
   "source": [
    "# inputs\n",
    "x1 = Scalar(2.0, label='x1')\n",
    "x2 = Scalar(0.0, label='x2')\n",
    "\n",
    "# weights\n",
    "w1 = Scalar(-3.0, label='w1')\n",
    "w2 = Scalar(1.0, label='w2')\n",
    "\n",
    "# bias\n",
    "b = Scalar(6.8813735870195432, label='b')\n",
    "\n",
    "x1w1 = x1*w1; x1w1.label = 'x1w1'\n",
    "x2w2 = x2*w2; x2w2.label = 'x2w2'\n",
    "x1w1x2w2 = x1w1 + x2w2; x1w1x2w2.label = '(x1*w1 + x2*w2)'\n",
    "n = x1w1x2w2 + b; n.label = 'n'\n",
    "o = n.tanh(); o.label = 'o'"
   ]
  },
  {
   "cell_type": "code",
   "execution_count": null,
   "id": "b8490dbf-e00d-4dfb-9e49-26a92eda9c36",
   "metadata": {},
   "outputs": [],
   "source": [
    "draw_dot(o, show_backprop=False)"
   ]
  },
  {
   "cell_type": "code",
   "execution_count": null,
   "id": "76c3ac2b-ee97-48cf-b9e5-fd43823cd376",
   "metadata": {},
   "outputs": [],
   "source": [
    "o.backward()"
   ]
  },
  {
   "cell_type": "code",
   "execution_count": null,
   "id": "f5a98ddf-e6e6-438d-b5d1-93d6f5d48b1b",
   "metadata": {},
   "outputs": [],
   "source": [
    "# topo = []\n",
    "# visited = set()\n",
    "# def build_topo(v):\n",
    "#   if v not in visited:\n",
    "#     visited.add(v)\n",
    "#     for child in v.prev:\n",
    "#       build_topo(child)\n",
    "#     topo.append(v)\n",
    "# build_topo(o)    \n",
    "# print(topo)\n",
    "\n",
    "# o.grad = 1.0\n",
    "# for node in reversed(topo):\n",
    "#   node._backward()"
   ]
  },
  {
   "cell_type": "code",
   "execution_count": null,
   "id": "67470f23-8b71-4fda-8d38-5ea0489969a7",
   "metadata": {},
   "outputs": [],
   "source": [
    "class Scalar(object):\n",
    "  \"\"\"\n",
    "  Stores a single scalar value and its attributes\n",
    "  \"\"\"  \n",
    "  def __init__(self, data, children=(), op='', label='unk'):\n",
    "    self.data = data\n",
    "    self._grad = 0.0\n",
    "    self._backward = lambda: None\n",
    "    self.prev = set(children)\n",
    "    self.grad_updated = False\n",
    "    self.op = op\n",
    "    self.label = label\n",
    "    \n",
    "  @property \n",
    "  def grad(self):\n",
    "    return self._grad\n",
    "  \n",
    "  @grad.setter\n",
    "  def grad(self, val):\n",
    "    self.grad_updated = True\n",
    "    self._grad = val\n",
    "    \n",
    "  def __add__(self, other):\n",
    "    out = Scalar(self.data + other.data, (self, other), '+')\n",
    "    def _backward():\n",
    "      self.grad += 1.0 * out.grad\n",
    "      other.grad += 1.0 * out.grad   \n",
    "    out._backward = _backward\n",
    "    return out\n",
    "  \n",
    "  def __mul__(self, other):\n",
    "    out = Scalar(self.data * other.data, (self, other), '*')\n",
    "    def _backward():\n",
    "      self.grad += other.data * out.grad\n",
    "      other.grad += self.data * out.grad\n",
    "    out._backward = _backward\n",
    "    return out\n",
    "  \n",
    "  def tanh(self):\n",
    "    n = self.data\n",
    "    t = (math.exp(2*n)-1)/(math.exp(2*n)+1)\n",
    "    out = Scalar(t, (self, ), 'tanh') \n",
    "    def _backward():\n",
    "      self.grad += (1 - t**2) * out.grad\n",
    "    out._backward = _backward\n",
    "    return out\n",
    "  \n",
    "  def backward(self):\n",
    "    topo = []\n",
    "    visited = set()\n",
    "    def build_topo(v):\n",
    "      if v not in visited:\n",
    "        visited.add(v)\n",
    "        for child in v.prev:\n",
    "          build_topo(child)\n",
    "        topo.append(v)\n",
    "        \n",
    "    build_topo(self)    \n",
    "    self.grad = 1.0\n",
    "    for node in reversed(topo):\n",
    "      node._backward()        \n",
    "  \n",
    "  def __repr__(self):\n",
    "    return f'{self.label}|{self.data:0.3f}|{self.grad:0.3f}'"
   ]
  },
  {
   "cell_type": "code",
   "execution_count": null,
   "id": "40160497-8afa-47dc-8940-e92b1de77996",
   "metadata": {},
   "outputs": [],
   "source": [
    "a = Scalar(3.0, label='a')\n",
    "o = a + a; o.label = 'o'\n",
    "o.backward()\n",
    "draw_dot(o, show_backprop=False)"
   ]
  },
  {
   "cell_type": "code",
   "execution_count": null,
   "id": "dfb3651d-95d0-482d-8055-6143118fbffd",
   "metadata": {},
   "outputs": [],
   "source": [
    "a = Scalar(-2.0, label='a')\n",
    "b = Scalar(3.0, label='b')\n",
    "d = a*b; d.label='d'\n",
    "e = a+b; e.label='e'\n",
    "o = d*e; o.label='f'\n",
    "o.backward()\n",
    "draw_dot(o, show_backprop=False)"
   ]
  },
  {
   "cell_type": "code",
   "execution_count": null,
   "id": "2ec5216d-4b8f-4bcb-bc3c-aa6e94ed3825",
   "metadata": {},
   "outputs": [],
   "source": [
    "a = Scalar(-2.0, label='a')\n",
    "b = Scalar(3.0, label='b')\n",
    "d = a*b; d.label='d'\n",
    "e = a+b; e.label='e'\n",
    "o = d*e; o.label='f'\n",
    "o.backward()\n",
    "draw_dot(o, show_backprop=False)"
   ]
  }
 ],
 "metadata": {
  "kernelspec": {
   "display_name": "Python 3 (ipykernel)",
   "language": "python",
   "name": "python3"
  },
  "language_info": {
   "codemirror_mode": {
    "name": "ipython",
    "version": 3
   },
   "file_extension": ".py",
   "mimetype": "text/x-python",
   "name": "python",
   "nbconvert_exporter": "python",
   "pygments_lexer": "ipython3",
   "version": "3.8.13"
  }
 },
 "nbformat": 4,
 "nbformat_minor": 5
}
